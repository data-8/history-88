{
 "cells": [
  {
   "cell_type": "code",
   "execution_count": null,
   "metadata": {
    "collapsed": true
   },
   "outputs": [],
   "source": [
    "from datascience import *\n",
    "import numpy as np\n",
    "import glob\n",
    "import pandas as pd\n",
    "% matplotlib inline"
   ]
  },
  {
   "cell_type": "markdown",
   "metadata": {},
   "source": [
    "Creating New CSV file. Only need to run bottom cell once."
   ]
  },
  {
   "cell_type": "code",
   "execution_count": null,
   "metadata": {
    "collapsed": false
   },
   "outputs": [],
   "source": [
    "table_names = glob.glob('WRA/AAD_quartile_*.csv')\n",
    "dfs = []\n",
    "for table_name in table_names:\n",
    "    dfs.append(pd.read_csv(table_name))\n",
    "combined = pd.concat(dfs)\n",
    "combined.to_csv('WRA/combined.csv', index = False)"
   ]
  },
  {
   "cell_type": "markdown",
   "metadata": {},
   "source": [
    "Loading in combined table..."
   ]
  },
  {
   "cell_type": "code",
   "execution_count": null,
   "metadata": {
    "collapsed": false
   },
   "outputs": [],
   "source": [
    "all_entries = Table.read_table('WRA/combined.csv')\n",
    "# Data Cleaning: Dropping produced unnamed columns\n",
    "all_entries = all_entries.drop(['Unnamed: 0'])\n",
    "all_entries"
   ]
  },
  {
   "cell_type": "code",
   "execution_count": null,
   "metadata": {
    "collapsed": false
   },
   "outputs": [],
   "source": [
    "student_names = ['Kazuya Abe', 'Emiko Hayashi', 'Dorothy Sakuri', 'Yoshi Sugiyama', 'Motomu Takata', 'Haru Tanaka', 'Fujino Yashida']\n",
    "unknown_first_name = ['H Hitaya', 'T Watanabe']\n",
    "student_names"
   ]
  },
  {
   "cell_type": "markdown",
   "metadata": {},
   "source": [
    "Let's try searching for the last name first"
   ]
  },
  {
   "cell_type": "code",
   "execution_count": null,
   "metadata": {
    "collapsed": false
   },
   "outputs": [],
   "source": [
    "#all_entries.where('LAST NAME', last_name).where('FIRST NAME', first_name)\n",
    "def get_student_info(student_names):\n",
    "    student_table = Table(labels = all_entries.labels)\n",
    "    for student in student_names:\n",
    "        first_name, last_name = student.upper().split(' ')\n",
    "        # Why did we use the upper function?\n",
    "        print('First Name: {}, Last Name: {}'.format(first_name, last_name))\n",
    "        if \n",
    "        query = all_entries.where('LAST NAME', last_name).where('FIRST NAME', first_name)\n",
    "        student_table.append(query)\n",
    "    return student_table\n",
    "#student_table\n",
    "get_student_info(student_names)"
   ]
  },
  {
   "cell_type": "code",
   "execution_count": null,
   "metadata": {
    "collapsed": false
   },
   "outputs": [],
   "source": [
    "project_counts = all_entries.group('RELOCATION PROJECT')\n",
    "project_counts.barh('RELOCATION PROJECT')"
   ]
  },
  {
   "cell_type": "code",
   "execution_count": null,
   "metadata": {
    "collapsed": true
   },
   "outputs": [],
   "source": []
  }
 ],
 "metadata": {
  "kernelspec": {
   "display_name": "Python 3",
   "language": "python",
   "name": "python3"
  },
  "language_info": {
   "codemirror_mode": {
    "name": "ipython",
    "version": 3
   },
   "file_extension": ".py",
   "mimetype": "text/x-python",
   "name": "python",
   "nbconvert_exporter": "python",
   "pygments_lexer": "ipython3",
   "version": "3.5.2"
  }
 },
 "nbformat": 4,
 "nbformat_minor": 2
}
