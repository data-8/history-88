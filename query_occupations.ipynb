{
 "cells": [
  {
   "cell_type": "code",
   "execution_count": null,
   "metadata": {
    "collapsed": true
   },
   "outputs": [],
   "source": [
    "from datascience import *\n",
    "import numpy as np\n",
    "% matplotlib inline"
   ]
  },
  {
   "cell_type": "code",
   "execution_count": null,
   "metadata": {
    "collapsed": false
   },
   "outputs": [],
   "source": [
    "# read the csv file and produce a table\n",
    "\n",
    "tbl = Table.read_table('WRA/AAD_records_100.csv')\n",
    "tbl"
   ]
  },
  {
   "cell_type": "code",
   "execution_count": null,
   "metadata": {
    "collapsed": false
   },
   "outputs": [],
   "source": [
    "# group the values in the column \"PRIMARY OCCUPATION\" and count the results\n",
    "\n",
    "occ = tbl.group(\"PRIMARY OCCUPATION\")\n",
    "occ\n",
    "\n",
    "# display the same results as a bar chart\n",
    "\n",
    "occ.barh('PRIMARY OCCUPATION')"
   ]
  },
  {
   "cell_type": "markdown",
   "metadata": {},
   "source": [
    "\"nan\" stands for \"not a number,\" and in this case we can interpret these as NULL values.  But why de we have so many?  They are skewing the bar chart.  Let's get rid of them..."
   ]
  },
  {
   "cell_type": "code",
   "execution_count": null,
   "metadata": {
    "collapsed": false
   },
   "outputs": [],
   "source": [
    "# filter the results to exclude 'nan' values\n",
    "\n",
    "occ_list = occ.where('PRIMARY OCCUPATION', are.not_equal_to(\"nan\"))\n",
    "\n",
    "# Display new primary occupation counts to Bar Chart\n",
    "\n",
    "occ_list.barh(\"PRIMARY OCCUPATION\")"
   ]
  },
  {
   "cell_type": "markdown",
   "metadata": {},
   "source": [
    "But, wait a minute... what did we just delete?  What are all those 'nan' values?  Do they _mean_ something? And what is the difference between those and \"Undefined Code\"?\n",
    "\n",
    "_Discuss with your neighbor_:\n",
    "\n",
    "First, make a guess.  This is your hypothesis, your historian's hunch.  It is important to start thinking about possible explanations, because that will help you know where to look next.  But guessing alone is not enough.  Let's take a closer look at the evidence..."
   ]
  },
  {
   "cell_type": "code",
   "execution_count": null,
   "metadata": {
    "collapsed": false
   },
   "outputs": [],
   "source": [
    "# filter the results to show only 'nan' values\n",
    "\n",
    "nan_results = tbl.where('PRIMARY OCCUPATION', are.equal_to(\"nan\"))\n",
    "\n",
    "# show the full table (up to 999 rows)\n",
    "\n",
    "nan_results.show(max_rows=999)"
   ]
  },
  {
   "cell_type": "code",
   "execution_count": null,
   "metadata": {
    "collapsed": false
   },
   "outputs": [],
   "source": [
    "# a better way to show the full table...\n",
    "\n",
    "nan_rows = nan_results.num_rows\n",
    "nan_results.show(max_rows=nan_rows)"
   ]
  },
  {
   "cell_type": "markdown",
   "metadata": {
    "collapsed": false
   },
   "source": [
    "\n",
    "Read the results.  Based on skimming the results with your eyes, what do you think the explanation is?  What are the 'nan' values?  Does it confirm or deny your original hunch?\n",
    "\n",
    "Having looked at some examples, we should have a better idea now, or at least be more secure with our theory.  But we can go further with the data..."
   ]
  },
  {
   "cell_type": "markdown",
   "metadata": {},
   "source": [
    "Let's observe the year of birth of the people listed having 'nan' as their primary occupation."
   ]
  },
  {
   "cell_type": "code",
   "execution_count": null,
   "metadata": {
    "collapsed": false
   },
   "outputs": [],
   "source": [
    "nan_results.group('YEAR OF BIRTH').barh('YEAR OF BIRTH')"
   ]
  },
  {
   "cell_type": "markdown",
   "metadata": {},
   "source": [
    "There are a few things to say about this chart:\n",
    "- There are values above 42, but starting only at 71.  What are we seeing here?\n",
    "- There is a spike starting at 24... why?\n",
    "- Does that spike explain our 'nan' values?\n",
    "- Does it _fully_ explain them?\n",
    "\n",
    "Let's take a closer look at the outliers."
   ]
  },
  {
   "cell_type": "code",
   "execution_count": null,
   "metadata": {
    "collapsed": false
   },
   "outputs": [],
   "source": [
    "# reduce the set of rows to those with a year of birth above 42\n",
    "nan_exceptions = nan_results.where('YEAR OF BIRTH', are.not_between_or_equal_to(24, 42))\n",
    "nan_exceptions.group('YEAR OF BIRTH').show(max_rows=999)\n",
    "\n",
    "# and we also are curious about the total number of exceptions here:\n",
    "print(nan_exceptions.num_rows, 'out of', nan_results.num_rows)"
   ]
  },
  {
   "cell_type": "markdown",
   "metadata": {},
   "source": [
    "But let's see that value as a percentage..."
   ]
  },
  {
   "cell_type": "code",
   "execution_count": null,
   "metadata": {
    "collapsed": false
   },
   "outputs": [],
   "source": [
    "excepts = nan_exceptions.num_rows\n",
    "total = nan_results.num_rows\n",
    "perc = excepts / total * 100\n",
    "print(\"Percentage of those with no listed primary occupation who are adults: {0:.2f}%\".format(perc))\n",
    "    # If intereseted, read more about string formatting here: \n",
    "    # https://docs.python.org/3.1/library/string.html#string-formatting"
   ]
  },
  {
   "cell_type": "markdown",
   "metadata": {},
   "source": [
    "What happens when we group the nan group by sex and marital status?"
   ]
  },
  {
   "cell_type": "code",
   "execution_count": null,
   "metadata": {
    "collapsed": false
   },
   "outputs": [],
   "source": [
    "nan_smstatus = nan_exceptions.group('SEX AND MARITAL STATUS')\n",
    "nan_smstatus.show()\n",
    "nan_smstatus.barh('SEX AND MARITAL STATUS')"
   ]
  },
  {
   "cell_type": "markdown",
   "metadata": {},
   "source": [
    "How do we interpret this table, historically?"
   ]
  },
  {
   "cell_type": "code",
   "execution_count": null,
   "metadata": {
    "collapsed": false
   },
   "outputs": [],
   "source": [
    "tbl_2 = tbl.where('YEAR OF BIRTH', are.not_between_or_equal_to(24,42))\n",
    "\n",
    "# Data Cleaning: Create new column 'GENDER' that is \n",
    "# just the first letter of column 'SEX AND MARITAL STATUS'\n",
    "def first_letter(string):\n",
    "    return string[0]\n",
    "tbl_2 = tbl_2.with_column('GENDER', tbl_2.apply(first_letter, 'SEX AND MARITAL STATUS'))\n",
    "\n",
    "# Query for female gender\n",
    "tbl_f = tbl_2.where('GENDER', are.equal_to('F'))\n",
    "\n",
    "# Group females by primary occupation and display bar graph\n",
    "occ_f = tbl_f.group('PRIMARY OCCUPATION')\n",
    "occ_f.barh('PRIMARY OCCUPATION')\n"
   ]
  },
  {
   "cell_type": "code",
   "execution_count": null,
   "metadata": {
    "collapsed": false
   },
   "outputs": [],
   "source": [
    "# now let's do the same for those listed as \"MALE\"\n",
    "tbl_m = tbl_2.where('GENDER', are.equal_to('M'))\n",
    "occ_m = tbl_m.group('PRIMARY OCCUPATION')\n",
    "occ_m.barh('PRIMARY OCCUPATION')"
   ]
  },
  {
   "cell_type": "markdown",
   "metadata": {},
   "source": [
    "We've figured out how to understand the 'nan' values.  But what about the \"Undefined Code\"?\n",
    "\n",
    "Your assignment for next week will be to recreate what we did here, but looking at what the data tells us about the age and gender of the people given \"Undefined Code\" as an occupation.  (I'm still working out the details of using Jupyter for assignments, so I'll send more instructions by Thursday.)"
   ]
  },
  {
   "cell_type": "code",
   "execution_count": null,
   "metadata": {
    "collapsed": true
   },
   "outputs": [],
   "source": []
  }
 ],
 "metadata": {
  "kernelspec": {
   "display_name": "Python 3",
   "language": "python",
   "name": "python3"
  },
  "language_info": {
   "codemirror_mode": {
    "name": "ipython",
    "version": 3
   },
   "file_extension": ".py",
   "mimetype": "text/x-python",
   "name": "python",
   "nbconvert_exporter": "python",
   "pygments_lexer": "ipython3",
   "version": "3.5.2"
  }
 },
 "nbformat": 4,
 "nbformat_minor": 2
}
