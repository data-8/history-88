{
 "cells": [
  {
   "cell_type": "code",
   "execution_count": 13,
   "metadata": {
    "collapsed": false,
    "deletable": true,
    "editable": true
   },
   "outputs": [],
   "source": [
    "from datascience import *\n",
    "import numpy as np\n",
    "import glob\n",
    "import pandas as pd\n",
    "% matplotlib inline\n",
    "\n",
    "table_names = glob.glob('dispatch_test/Tulean Dispatch - Resettlement Data*.csv')\n",
    "dfs = []\n",
    "for table_name in table_names:\n",
    "    dfs.append(pd.read_csv(table_name))\n",
    "combined = pd.concat(dfs)\n",
    "combined.to_csv('dispatch_test/tuleandispatch.csv', index = False)"
   ]
  },
  {
   "cell_type": "code",
   "execution_count": 11,
   "metadata": {
    "collapsed": false,
    "deletable": true,
    "editable": true
   },
   "outputs": [
    {
     "data": {
      "text/html": [
       "<table border=\"1\" class=\"dataframe\">\n",
       "    <thead>\n",
       "        <tr>\n",
       "            <th>Age</th> <th>Camp Name</th> <th>Date of Departure</th> <th>Destination</th> <th>First Name</th> <th>Gender</th> <th>Last Name</th> <th>Marital Status</th> <th>Middle Name</th> <th>Notes</th> <th>Occupation</th> <th>Source</th>\n",
       "        </tr>\n",
       "    </thead>\n",
       "    <tbody>\n",
       "        <tr>\n",
       "            <td>nan </td> <td>TULE LAKE</td> <td>05/26/1943       </td> <td>SHAKOPEE, MN</td> <td>GEORGE    </td> <td>M     </td> <td>SAKAMOTO </td> <td>nan           </td> <td>nan        </td> <td>NYA WAR PRODUCTION TRAINING CENTER                          </td> <td>MACHINERY , SHEET METAL, WELDING, FOUNDRY, PATTERN MAKING</td> <td>TULEAN DISPATCH, 5.58</td>\n",
       "        </tr>\n",
       "    </tbody>\n",
       "        <tr>\n",
       "            <td>nan </td> <td>TULE LAKE</td> <td>05/26/1943       </td> <td>SHAKOPEE, MN</td> <td>ALBERT    </td> <td>M     </td> <td>OSHITA   </td> <td>nan           </td> <td>nan        </td> <td>NYA WAR PRODUCTION TRAINING CENTER                          </td> <td>MACHINERY , SHEET METAL, WELDING, FOUNDRY, PATTERN MAKING</td> <td>TULEAN DISPATCH, 5.58</td>\n",
       "        </tr>\n",
       "    </tbody>\n",
       "        <tr>\n",
       "            <td>nan </td> <td>TULE LAKE</td> <td>05/26/1943       </td> <td>SHAKOPEE, MN</td> <td>THOMAS    </td> <td>M     </td> <td>OSHIKA   </td> <td>nan           </td> <td>A.         </td> <td>NYA WAR PRODUCTION TRAINING CENTER                          </td> <td>MACHINERY , SHEET METAL, WELDING, FOUNDRY, PATTERN MAKING</td> <td>TULEAN DISPATCH, 5.58</td>\n",
       "        </tr>\n",
       "    </tbody>\n",
       "        <tr>\n",
       "            <td>nan </td> <td>TULE LAKE</td> <td>05/26/1943       </td> <td>SHAKOPEE, MN</td> <td>HENRY     </td> <td>M     </td> <td>SHIHOJIMA</td> <td>nan           </td> <td>nan        </td> <td>NYA WAR PRODUCTION TRAINING CENTER, project cancelled la ...</td> <td>MACHINERY , SHEET METAL, WELDING, FOUNDRY, PATTERN MAKING</td> <td>TULEAN DISPATCH, 5.58</td>\n",
       "        </tr>\n",
       "    </tbody>\n",
       "        <tr>\n",
       "            <td>nan </td> <td>TULE LAKE</td> <td>05/26/1943       </td> <td>SHAKOPEE, MN</td> <td>TOM       </td> <td>M     </td> <td>MURAKI   </td> <td>nan           </td> <td>nan        </td> <td>NYA WAR PRODUCTION TRAINING CENTER, project cancelled la ...</td> <td>MACHINERY , SHEET METAL, WELDING, FOUNDRY, PATTERN MAKING</td> <td>TULEAN DISPATCH, 5.58</td>\n",
       "        </tr>\n",
       "    </tbody>\n",
       "        <tr>\n",
       "            <td>nan </td> <td>TULE LAKE</td> <td>05/26/1943       </td> <td>SHAKOPEE, MN</td> <td>HISASHI   </td> <td>M     </td> <td>KUNAGAI  </td> <td>nan           </td> <td>nan        </td> <td>NYA WAR PRODUCTION TRAINING CENTER, project cancelled la ...</td> <td>MACHINERY , SHEET METAL, WELDING, FOUNDRY, PATTERN MAKING</td> <td>TULEAN DISPATCH, 5.58</td>\n",
       "        </tr>\n",
       "    </tbody>\n",
       "        <tr>\n",
       "            <td>nan </td> <td>TULE LAKE</td> <td>05/26/1943       </td> <td>SHAKOPEE, MN</td> <td>JACK      </td> <td>M     </td> <td>CKUDA    </td> <td>nan           </td> <td>V.         </td> <td>NYA WAR PRODUCTION TRAINING CENTER, project cancelled la ...</td> <td>MACHINERY , SHEET METAL, WELDING, FOUNDRY, PATTERN MAKING</td> <td>TULEAN DISPATCH, 5.58</td>\n",
       "        </tr>\n",
       "    </tbody>\n",
       "        <tr>\n",
       "            <td>nan </td> <td>TULE LAKE</td> <td>05/26/1943       </td> <td>SHAKOPEE, MN</td> <td>SHIG      </td> <td>M     </td> <td>KATO     </td> <td>nan           </td> <td>nan        </td> <td>NYA WAR PRODUCTION TRAINING CENTER, project cancelled la ...</td> <td>MACHINERY , SHEET METAL, WELDING, FOUNDRY, PATTERN MAKING</td> <td>TULEAN DISPATCH, 5.58</td>\n",
       "        </tr>\n",
       "    </tbody>\n",
       "        <tr>\n",
       "            <td>nan </td> <td>TULE LAKE</td> <td>05/26/1943       </td> <td>SHAKOPEE, MN</td> <td>KUNIO     </td> <td>M     </td> <td>KAWATA   </td> <td>nan           </td> <td>BILL       </td> <td>NYA WAR PRODUCTION TRAINING CENTER, project cancelled la ...</td> <td>MACHINERY , SHEET METAL, WELDING, FOUNDRY, PATTERN MAKING</td> <td>TULEAN DISPATCH, 5.58</td>\n",
       "        </tr>\n",
       "    </tbody>\n",
       "        <tr>\n",
       "            <td>nan </td> <td>TULE LAKE</td> <td>05/26/1943       </td> <td>SHAKOPEE, MN</td> <td>BOB       </td> <td>M     </td> <td>OKAMURA  </td> <td>nan           </td> <td>nan        </td> <td>NYA WAR PRODUCTION TRAINING CENTER, project cancelled la ...</td> <td>MACHINERY , SHEET METAL, WELDING, FOUNDRY, PATTERN MAKING</td> <td>TULEAN DISPATCH, 5.58</td>\n",
       "        </tr>\n",
       "    </tbody>\n",
       "</table>\n",
       "<p>... (449 rows omitted)</p"
      ],
      "text/plain": [
       "Age  | Camp Name | Date of Departure | Destination  | First Name | Gender | Last Name | Marital Status | Middle Name | Notes                                                        | Occupation                                                | Source\n",
       "nan  | TULE LAKE | 05/26/1943        | SHAKOPEE, MN | GEORGE     | M      | SAKAMOTO  | nan            | nan         | NYA WAR PRODUCTION TRAINING CENTER                           | MACHINERY , SHEET METAL, WELDING, FOUNDRY, PATTERN MAKING | TULEAN DISPATCH, 5.58\n",
       "nan  | TULE LAKE | 05/26/1943        | SHAKOPEE, MN | ALBERT     | M      | OSHITA    | nan            | nan         | NYA WAR PRODUCTION TRAINING CENTER                           | MACHINERY , SHEET METAL, WELDING, FOUNDRY, PATTERN MAKING | TULEAN DISPATCH, 5.58\n",
       "nan  | TULE LAKE | 05/26/1943        | SHAKOPEE, MN | THOMAS     | M      | OSHIKA    | nan            | A.          | NYA WAR PRODUCTION TRAINING CENTER                           | MACHINERY , SHEET METAL, WELDING, FOUNDRY, PATTERN MAKING | TULEAN DISPATCH, 5.58\n",
       "nan  | TULE LAKE | 05/26/1943        | SHAKOPEE, MN | HENRY      | M      | SHIHOJIMA | nan            | nan         | NYA WAR PRODUCTION TRAINING CENTER, project cancelled la ... | MACHINERY , SHEET METAL, WELDING, FOUNDRY, PATTERN MAKING | TULEAN DISPATCH, 5.58\n",
       "nan  | TULE LAKE | 05/26/1943        | SHAKOPEE, MN | TOM        | M      | MURAKI    | nan            | nan         | NYA WAR PRODUCTION TRAINING CENTER, project cancelled la ... | MACHINERY , SHEET METAL, WELDING, FOUNDRY, PATTERN MAKING | TULEAN DISPATCH, 5.58\n",
       "nan  | TULE LAKE | 05/26/1943        | SHAKOPEE, MN | HISASHI    | M      | KUNAGAI   | nan            | nan         | NYA WAR PRODUCTION TRAINING CENTER, project cancelled la ... | MACHINERY , SHEET METAL, WELDING, FOUNDRY, PATTERN MAKING | TULEAN DISPATCH, 5.58\n",
       "nan  | TULE LAKE | 05/26/1943        | SHAKOPEE, MN | JACK       | M      | CKUDA     | nan            | V.          | NYA WAR PRODUCTION TRAINING CENTER, project cancelled la ... | MACHINERY , SHEET METAL, WELDING, FOUNDRY, PATTERN MAKING | TULEAN DISPATCH, 5.58\n",
       "nan  | TULE LAKE | 05/26/1943        | SHAKOPEE, MN | SHIG       | M      | KATO      | nan            | nan         | NYA WAR PRODUCTION TRAINING CENTER, project cancelled la ... | MACHINERY , SHEET METAL, WELDING, FOUNDRY, PATTERN MAKING | TULEAN DISPATCH, 5.58\n",
       "nan  | TULE LAKE | 05/26/1943        | SHAKOPEE, MN | KUNIO      | M      | KAWATA    | nan            | BILL        | NYA WAR PRODUCTION TRAINING CENTER, project cancelled la ... | MACHINERY , SHEET METAL, WELDING, FOUNDRY, PATTERN MAKING | TULEAN DISPATCH, 5.58\n",
       "nan  | TULE LAKE | 05/26/1943        | SHAKOPEE, MN | BOB        | M      | OKAMURA   | nan            | nan         | NYA WAR PRODUCTION TRAINING CENTER, project cancelled la ... | MACHINERY , SHEET METAL, WELDING, FOUNDRY, PATTERN MAKING | TULEAN DISPATCH, 5.58\n",
       "... (449 rows omitted)"
      ]
     },
     "execution_count": 11,
     "metadata": {},
     "output_type": "execute_result"
    }
   ],
   "source": [
    "tab = Table.read_table('dispatch_test/tuleandispatch_combined.csv')\n",
    "tab"
   ]
  },
  {
   "cell_type": "code",
   "execution_count": 12,
   "metadata": {
    "collapsed": false,
    "deletable": true,
    "editable": true
   },
   "outputs": [
    {
     "data": {
      "text/html": [
       "<table border=\"1\" class=\"dataframe\">\n",
       "    <thead>\n",
       "        <tr>\n",
       "            <th>Age</th> <th>Camp Name</th> <th>Date of Departure</th> <th>Destination</th> <th>First Name</th> <th>Gender</th> <th>Last Name</th> <th>Marital Status</th> <th>Middle Name</th> <th>Notes</th> <th>Occupation</th> <th>Source</th>\n",
       "        </tr>\n",
       "    </thead>\n",
       "    <tbody>\n",
       "        <tr>\n",
       "            <td>nan </td> <td>TULE LAKE</td> <td>05/26/1943       </td> <td>SHAKOPEE, MN</td> <td>GEORGE    </td> <td>M     </td> <td>SAKAMOTO </td> <td>nan           </td> <td>nan        </td> <td>NYA WAR PRODUCTION TRAINING CENTER                          </td> <td>MACHINERY , SHEET METAL, WELDING, FOUNDRY, PATTERN MAKING</td> <td>TULEAN DISPATCH, 5.58</td>\n",
       "        </tr>\n",
       "    </tbody>\n",
       "        <tr>\n",
       "            <td>nan </td> <td>TULE LAKE</td> <td>05/26/1943       </td> <td>SHAKOPEE, MN</td> <td>ALBERT    </td> <td>M     </td> <td>OSHITA   </td> <td>nan           </td> <td>nan        </td> <td>NYA WAR PRODUCTION TRAINING CENTER                          </td> <td>MACHINERY , SHEET METAL, WELDING, FOUNDRY, PATTERN MAKING</td> <td>TULEAN DISPATCH, 5.58</td>\n",
       "        </tr>\n",
       "    </tbody>\n",
       "        <tr>\n",
       "            <td>nan </td> <td>TULE LAKE</td> <td>05/26/1943       </td> <td>SHAKOPEE, MN</td> <td>THOMAS    </td> <td>M     </td> <td>OSHIKA   </td> <td>nan           </td> <td>A.         </td> <td>NYA WAR PRODUCTION TRAINING CENTER                          </td> <td>MACHINERY , SHEET METAL, WELDING, FOUNDRY, PATTERN MAKING</td> <td>TULEAN DISPATCH, 5.58</td>\n",
       "        </tr>\n",
       "    </tbody>\n",
       "        <tr>\n",
       "            <td>nan </td> <td>TULE LAKE</td> <td>05/26/1943       </td> <td>SHAKOPEE, MN</td> <td>HENRY     </td> <td>M     </td> <td>SHIHOJIMA</td> <td>nan           </td> <td>nan        </td> <td>NYA WAR PRODUCTION TRAINING CENTER, project cancelled la ...</td> <td>MACHINERY , SHEET METAL, WELDING, FOUNDRY, PATTERN MAKING</td> <td>TULEAN DISPATCH, 5.58</td>\n",
       "        </tr>\n",
       "    </tbody>\n",
       "        <tr>\n",
       "            <td>nan </td> <td>TULE LAKE</td> <td>05/26/1943       </td> <td>SHAKOPEE, MN</td> <td>TOM       </td> <td>M     </td> <td>MURAKI   </td> <td>nan           </td> <td>nan        </td> <td>NYA WAR PRODUCTION TRAINING CENTER, project cancelled la ...</td> <td>MACHINERY , SHEET METAL, WELDING, FOUNDRY, PATTERN MAKING</td> <td>TULEAN DISPATCH, 5.58</td>\n",
       "        </tr>\n",
       "    </tbody>\n",
       "        <tr>\n",
       "            <td>nan </td> <td>TULE LAKE</td> <td>05/26/1943       </td> <td>SHAKOPEE, MN</td> <td>HISASHI   </td> <td>M     </td> <td>KUNAGAI  </td> <td>nan           </td> <td>nan        </td> <td>NYA WAR PRODUCTION TRAINING CENTER, project cancelled la ...</td> <td>MACHINERY , SHEET METAL, WELDING, FOUNDRY, PATTERN MAKING</td> <td>TULEAN DISPATCH, 5.58</td>\n",
       "        </tr>\n",
       "    </tbody>\n",
       "        <tr>\n",
       "            <td>nan </td> <td>TULE LAKE</td> <td>05/26/1943       </td> <td>SHAKOPEE, MN</td> <td>JACK      </td> <td>M     </td> <td>CKUDA    </td> <td>nan           </td> <td>V.         </td> <td>NYA WAR PRODUCTION TRAINING CENTER, project cancelled la ...</td> <td>MACHINERY , SHEET METAL, WELDING, FOUNDRY, PATTERN MAKING</td> <td>TULEAN DISPATCH, 5.58</td>\n",
       "        </tr>\n",
       "    </tbody>\n",
       "        <tr>\n",
       "            <td>nan </td> <td>TULE LAKE</td> <td>05/26/1943       </td> <td>SHAKOPEE, MN</td> <td>SHIG      </td> <td>M     </td> <td>KATO     </td> <td>nan           </td> <td>nan        </td> <td>NYA WAR PRODUCTION TRAINING CENTER, project cancelled la ...</td> <td>MACHINERY , SHEET METAL, WELDING, FOUNDRY, PATTERN MAKING</td> <td>TULEAN DISPATCH, 5.58</td>\n",
       "        </tr>\n",
       "    </tbody>\n",
       "        <tr>\n",
       "            <td>nan </td> <td>TULE LAKE</td> <td>05/26/1943       </td> <td>SHAKOPEE, MN</td> <td>KUNIO     </td> <td>M     </td> <td>KAWATA   </td> <td>nan           </td> <td>BILL       </td> <td>NYA WAR PRODUCTION TRAINING CENTER, project cancelled la ...</td> <td>MACHINERY , SHEET METAL, WELDING, FOUNDRY, PATTERN MAKING</td> <td>TULEAN DISPATCH, 5.58</td>\n",
       "        </tr>\n",
       "    </tbody>\n",
       "        <tr>\n",
       "            <td>nan </td> <td>TULE LAKE</td> <td>05/26/1943       </td> <td>SHAKOPEE, MN</td> <td>BOB       </td> <td>M     </td> <td>OKAMURA  </td> <td>nan           </td> <td>nan        </td> <td>NYA WAR PRODUCTION TRAINING CENTER, project cancelled la ...</td> <td>MACHINERY , SHEET METAL, WELDING, FOUNDRY, PATTERN MAKING</td> <td>TULEAN DISPATCH, 5.58</td>\n",
       "        </tr>\n",
       "    </tbody>\n",
       "</table>\n",
       "<p>... (449 rows omitted)</p"
      ],
      "text/plain": [
       "Age  | Camp Name | Date of Departure | Destination  | First Name | Gender | Last Name | Marital Status | Middle Name | Notes                                                        | Occupation                                                | Source\n",
       "nan  | TULE LAKE | 05/26/1943        | SHAKOPEE, MN | GEORGE     | M      | SAKAMOTO  | nan            | nan         | NYA WAR PRODUCTION TRAINING CENTER                           | MACHINERY , SHEET METAL, WELDING, FOUNDRY, PATTERN MAKING | TULEAN DISPATCH, 5.58\n",
       "nan  | TULE LAKE | 05/26/1943        | SHAKOPEE, MN | ALBERT     | M      | OSHITA    | nan            | nan         | NYA WAR PRODUCTION TRAINING CENTER                           | MACHINERY , SHEET METAL, WELDING, FOUNDRY, PATTERN MAKING | TULEAN DISPATCH, 5.58\n",
       "nan  | TULE LAKE | 05/26/1943        | SHAKOPEE, MN | THOMAS     | M      | OSHIKA    | nan            | A.          | NYA WAR PRODUCTION TRAINING CENTER                           | MACHINERY , SHEET METAL, WELDING, FOUNDRY, PATTERN MAKING | TULEAN DISPATCH, 5.58\n",
       "nan  | TULE LAKE | 05/26/1943        | SHAKOPEE, MN | HENRY      | M      | SHIHOJIMA | nan            | nan         | NYA WAR PRODUCTION TRAINING CENTER, project cancelled la ... | MACHINERY , SHEET METAL, WELDING, FOUNDRY, PATTERN MAKING | TULEAN DISPATCH, 5.58\n",
       "nan  | TULE LAKE | 05/26/1943        | SHAKOPEE, MN | TOM        | M      | MURAKI    | nan            | nan         | NYA WAR PRODUCTION TRAINING CENTER, project cancelled la ... | MACHINERY , SHEET METAL, WELDING, FOUNDRY, PATTERN MAKING | TULEAN DISPATCH, 5.58\n",
       "nan  | TULE LAKE | 05/26/1943        | SHAKOPEE, MN | HISASHI    | M      | KUNAGAI   | nan            | nan         | NYA WAR PRODUCTION TRAINING CENTER, project cancelled la ... | MACHINERY , SHEET METAL, WELDING, FOUNDRY, PATTERN MAKING | TULEAN DISPATCH, 5.58\n",
       "nan  | TULE LAKE | 05/26/1943        | SHAKOPEE, MN | JACK       | M      | CKUDA     | nan            | V.          | NYA WAR PRODUCTION TRAINING CENTER, project cancelled la ... | MACHINERY , SHEET METAL, WELDING, FOUNDRY, PATTERN MAKING | TULEAN DISPATCH, 5.58\n",
       "nan  | TULE LAKE | 05/26/1943        | SHAKOPEE, MN | SHIG       | M      | KATO      | nan            | nan         | NYA WAR PRODUCTION TRAINING CENTER, project cancelled la ... | MACHINERY , SHEET METAL, WELDING, FOUNDRY, PATTERN MAKING | TULEAN DISPATCH, 5.58\n",
       "nan  | TULE LAKE | 05/26/1943        | SHAKOPEE, MN | KUNIO      | M      | KAWATA    | nan            | BILL        | NYA WAR PRODUCTION TRAINING CENTER, project cancelled la ... | MACHINERY , SHEET METAL, WELDING, FOUNDRY, PATTERN MAKING | TULEAN DISPATCH, 5.58\n",
       "nan  | TULE LAKE | 05/26/1943        | SHAKOPEE, MN | BOB        | M      | OKAMURA   | nan            | nan         | NYA WAR PRODUCTION TRAINING CENTER, project cancelled la ... | MACHINERY , SHEET METAL, WELDING, FOUNDRY, PATTERN MAKING | TULEAN DISPATCH, 5.58\n",
       "... (449 rows omitted)"
      ]
     },
     "execution_count": 12,
     "metadata": {},
     "output_type": "execute_result"
    }
   ],
   "source": []
  },
  {
   "cell_type": "code",
   "execution_count": null,
   "metadata": {
    "collapsed": true
   },
   "outputs": [],
   "source": []
  }
 ],
 "metadata": {
  "kernelspec": {
   "display_name": "Python 3",
   "language": "python",
   "name": "python3"
  },
  "language_info": {
   "codemirror_mode": {
    "name": "ipython",
    "version": 3
   },
   "file_extension": ".py",
   "mimetype": "text/x-python",
   "name": "python",
   "nbconvert_exporter": "python",
   "pygments_lexer": "ipython3",
   "version": "3.5.2"
  }
 },
 "nbformat": 4,
 "nbformat_minor": 2
}
